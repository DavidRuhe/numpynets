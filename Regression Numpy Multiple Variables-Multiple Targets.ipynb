{
 "cells": [
  {
   "cell_type": "code",
   "execution_count": 162,
   "metadata": {},
   "outputs": [],
   "source": [
    "import numpy as np"
   ]
  },
  {
   "cell_type": "code",
   "execution_count": 163,
   "metadata": {},
   "outputs": [],
   "source": [
    "class Linear:\n",
    "    def __init__(self, in_dim, out_dim):\n",
    "        self.w = np.ones([in_dim, out_dim])\n",
    "        self.b = np.zeros(out_dim)\n",
    "        self.dw = None\n",
    "        self.db = None\n",
    "        \n",
    "    def forward(self, x):\n",
    "        return np.matmul(x, self.w) + self.b\n",
    "    \n",
    "    def backward(self, d, x):\n",
    "        self.dw = np.matmul(x.T, d)\n",
    "        assert self.dw.T.shape == self.w.shape, (self.dw.T.shape, self.w.shape)\n",
    "        self.db = d\n",
    "        \n",
    "    def step(self, lr):\n",
    "        self.w = self.w - lr * self.dw.T\n",
    "        self.b = self.b - lr * self.db"
   ]
  },
  {
   "cell_type": "code",
   "execution_count": 164,
   "metadata": {},
   "outputs": [],
   "source": [
    "class MeanSquaredError:\n",
    "    def __init__(self): \n",
    "        pass\n",
    "    def forward(self, y_, y):\n",
    "        assert y_.shape == y.shape\n",
    "        return y_, np.sum(np.square(y - y_))\n",
    "    \n",
    "    def backward(self, y_, y):\n",
    "        return -(y - y_)"
   ]
  },
  {
   "cell_type": "code",
   "execution_count": 165,
   "metadata": {},
   "outputs": [],
   "source": [
    "class LinearRegression:\n",
    "    def __init__(self):\n",
    "        self.linear = Linear(2, 2)\n",
    "        self.loss = MeanSquaredError()\n",
    "        \n",
    "    def forward(self, x, y):\n",
    "        x = self.linear.forward(x)\n",
    "        loss = self.loss.forward(x, y)\n",
    "        return loss\n",
    "    \n",
    "    def backward(self, x, y_, y):\n",
    "        d = self.loss.backward(y_, y)\n",
    "        self.linear.backward(d, x)\n",
    "    \n",
    "    def step(self, lr):\n",
    "        self.linear.step(lr)\n",
    "        "
   ]
  },
  {
   "cell_type": "code",
   "execution_count": 166,
   "metadata": {},
   "outputs": [],
   "source": [
    "linreg = LinearRegression()"
   ]
  },
  {
   "cell_type": "code",
   "execution_count": 167,
   "metadata": {},
   "outputs": [],
   "source": [
    "x = np.array([[1, 1]])\n",
    "y = np.array([[0, 1]])"
   ]
  },
  {
   "cell_type": "code",
   "execution_count": 168,
   "metadata": {},
   "outputs": [
    {
     "name": "stdout",
     "output_type": "stream",
     "text": [
      "5.0 loss\n",
      "2.610000000000001 loss\n",
      "1.4084999999999999 loss\n",
      "0.795141 loss\n",
      "0.47464964999999987 loss\n",
      "0.3014530820999999 loss\n",
      "0.20350056064500005 loss\n",
      "0.14490400055300998 loss\n",
      "0.10760582819891247 loss\n",
      "0.08237517883909651 loss\n",
      "0.06437897927867717 loss\n",
      "0.05099796458104289 loss\n",
      "0.040745337079648794 loss\n",
      "0.032727846061327504 loss\n",
      "0.026374375592813137 loss\n",
      "0.0212970061689162 loss\n",
      "0.01721811834680353 loss\n",
      "0.013930772102401748 loss\n",
      "0.011276132561275947 loss\n",
      "0.00912984888221548 loss\n"
     ]
    }
   ],
   "source": [
    "for _ in range(20):\n",
    "    y_, loss = linreg.forward(x, y)\n",
    "    print(loss, 'loss')\n",
    "    linreg.backward(x, y_, y)\n",
    "    linreg.step(0.1)\n"
   ]
  },
  {
   "cell_type": "code",
   "execution_count": null,
   "metadata": {},
   "outputs": [],
   "source": []
  },
  {
   "cell_type": "code",
   "execution_count": null,
   "metadata": {},
   "outputs": [],
   "source": []
  }
 ],
 "metadata": {
  "kernelspec": {
   "display_name": "Python 3",
   "language": "python",
   "name": "python3"
  },
  "language_info": {
   "codemirror_mode": {
    "name": "ipython",
    "version": 3
   },
   "file_extension": ".py",
   "mimetype": "text/x-python",
   "name": "python",
   "nbconvert_exporter": "python",
   "pygments_lexer": "ipython3",
   "version": "3.7.4"
  }
 },
 "nbformat": 4,
 "nbformat_minor": 2
}
