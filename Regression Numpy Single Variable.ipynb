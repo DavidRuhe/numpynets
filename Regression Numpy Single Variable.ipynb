{
 "cells": [
  {
   "cell_type": "code",
   "execution_count": 124,
   "metadata": {},
   "outputs": [],
   "source": [
    "import numpy as np"
   ]
  },
  {
   "cell_type": "code",
   "execution_count": 137,
   "metadata": {},
   "outputs": [],
   "source": [
    "class Linear:\n",
    "    def __init__(self, in_dim, out_dim):\n",
    "        self.w = np.ones([in_dim, out_dim])\n",
    "        self.b = np.ones([out_dim])\n",
    "        self.dw = None\n",
    "        self.db = None\n",
    "        \n",
    "    def forward(self, x):\n",
    "        return np.matmul(x, self.w) + self.b\n",
    "    \n",
    "    def backward(self, d, x):\n",
    "        self.dw = d * x\n",
    "        self.db = d\n",
    "        \n",
    "    def step(self, lr):\n",
    "        self.w = self.w - lr * self.dw\n",
    "        self.b = self.b - lr * self.db"
   ]
  },
  {
   "cell_type": "code",
   "execution_count": 138,
   "metadata": {},
   "outputs": [],
   "source": [
    "class MeanSquaredError:\n",
    "    def __init__(self): \n",
    "        pass\n",
    "    def forward(self, y_, y):\n",
    "        return y_, 0.5 * np.square(y - y_)\n",
    "    \n",
    "    def backward(self, y_, y):\n",
    "        return -(y - y_)"
   ]
  },
  {
   "cell_type": "code",
   "execution_count": 139,
   "metadata": {},
   "outputs": [],
   "source": [
    "class LinearRegression:\n",
    "    def __init__(self):\n",
    "        self.linear = Linear(1, 1)\n",
    "        self.loss = MeanSquaredError()\n",
    "        \n",
    "    def forward(self, x, y):\n",
    "        x = self.linear.forward(x)\n",
    "        loss = self.loss.forward(x, y)\n",
    "        return loss\n",
    "    \n",
    "    def backward(self, x, y_, y):\n",
    "        d = self.loss.backward(y_, y)\n",
    "        self.linear.backward(d, x)\n",
    "    \n",
    "    def step(self, lr):\n",
    "        self.linear.step(lr)\n",
    "        "
   ]
  },
  {
   "cell_type": "code",
   "execution_count": 140,
   "metadata": {},
   "outputs": [],
   "source": [
    "linreg = LinearRegression()"
   ]
  },
  {
   "cell_type": "code",
   "execution_count": 141,
   "metadata": {},
   "outputs": [],
   "source": [
    "x = np.array([2])\n",
    "y = np.array([1])"
   ]
  },
  {
   "cell_type": "code",
   "execution_count": 142,
   "metadata": {},
   "outputs": [
    {
     "name": "stdout",
     "output_type": "stream",
     "text": [
      "[2.] loss\n",
      "[0.5] loss\n",
      "[0.125] loss\n",
      "[0.03125] loss\n",
      "[0.0078125] loss\n",
      "[0.00195312] loss\n",
      "[0.00048828] loss\n",
      "[0.00012207] loss\n",
      "[3.05175781e-05] loss\n",
      "[7.62939453e-06] loss\n",
      "[1.90734863e-06] loss\n",
      "[4.76837158e-07] loss\n",
      "[1.1920929e-07] loss\n",
      "[2.98023224e-08] loss\n",
      "[7.4505806e-09] loss\n",
      "[1.86264515e-09] loss\n",
      "[4.65661287e-10] loss\n",
      "[1.16415322e-10] loss\n",
      "[2.91038305e-11] loss\n",
      "[7.27595761e-12] loss\n"
     ]
    }
   ],
   "source": [
    "for _ in range(20):\n",
    "    y_, loss = linreg.forward(x, y)\n",
    "    linreg.backward(x, y_, y)\n",
    "    linreg.step(0.1)\n",
    "    print(loss, 'loss')"
   ]
  },
  {
   "cell_type": "code",
   "execution_count": null,
   "metadata": {},
   "outputs": [],
   "source": []
  },
  {
   "cell_type": "code",
   "execution_count": null,
   "metadata": {},
   "outputs": [],
   "source": []
  }
 ],
 "metadata": {
  "kernelspec": {
   "display_name": "Python 3",
   "language": "python",
   "name": "python3"
  },
  "language_info": {
   "codemirror_mode": {
    "name": "ipython",
    "version": 3
   },
   "file_extension": ".py",
   "mimetype": "text/x-python",
   "name": "python",
   "nbconvert_exporter": "python",
   "pygments_lexer": "ipython3",
   "version": "3.7.4"
  }
 },
 "nbformat": 4,
 "nbformat_minor": 2
}
