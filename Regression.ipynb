{
 "cells": [
  {
   "cell_type": "code",
   "execution_count": 1,
   "metadata": {},
   "outputs": [],
   "source": [
    "import numpy as np\n",
    "from sklearn.datasets import load_boston\n",
    "from sklearn.preprocessing import StandardScaler\n",
    "import torch\n",
    "from torch import nn"
   ]
  },
  {
   "cell_type": "code",
   "execution_count": 2,
   "metadata": {},
   "outputs": [],
   "source": [
    "X, y = load_boston(return_X_y=True)\n",
    "y = y[..., np.newaxis]\n",
    "y = np.concatenate((y, y * 2), axis=-1)\n",
    "X = StandardScaler().fit_transform(X)"
   ]
  },
  {
   "cell_type": "code",
   "execution_count": 3,
   "metadata": {},
   "outputs": [],
   "source": [
    "# X = X[:2]\n",
    "# y = y[:2"
   ]
  },
  {
   "cell_type": "code",
   "execution_count": 4,
   "metadata": {},
   "outputs": [],
   "source": [
    "w1 = torch.ones(13, 2)\n",
    "w2 = torch.ones(2, 2)\n",
    "b1 = torch.zeros(2)\n",
    "b2 = torch.zeros(2)\n",
    "X_t = torch.from_numpy(X).float()\n",
    "y_t = torch.from_numpy(y).float()"
   ]
  },
  {
   "cell_type": "code",
   "execution_count": 5,
   "metadata": {},
   "outputs": [
    {
     "name": "stdout",
     "output_type": "stream",
     "text": [
      "tensor(1667.3312, grad_fn=<DivBackward0>)\n"
     ]
    }
   ],
   "source": [
    "for i in range(1):\n",
    "    \n",
    "    w1.requires_grad = True\n",
    "    b1.requires_grad = True\n",
    "    w2.requires_grad = True\n",
    "    b2.requires_grad = True\n",
    "    \n",
    "    a1 = X_t @ w1 + b1\n",
    "#     print(a1.shape)\n",
    "#     print((a1 @ w2).shape)\n",
    "    y__t = a1 @ w2 + b2\n",
    "    \n",
    "#     y__t.requires_grad = True\n",
    "#     print(y__t.shape, y_t.shape)\n",
    "    \n",
    "    assert y__t.shape == y_t.shape\n",
    "        \n",
    "    l = 0.5 * torch.sum((y_t - y__t) ** 2) / len(y_t)\n",
    "    l.backward()\n",
    "#     print(w2.grad)\n",
    "#     print(b2.grad)\n",
    "#     print(w1.grad)\n",
    "#     print(b1.grad)\n",
    "    if i % 1 == 0:\n",
    "        print(l)\n",
    "    w1 = w1.data - 0.01 * w1.grad\n",
    "    w2 = w2.data - 0.01 * w2.grad\n",
    "    \n",
    "    b1 = b1.data - 0.01 * b1.grad\n",
    "    b2 = b2.data - 0.01 * b2.grad\n",
    "\n",
    "\n",
    "    \n",
    "    "
   ]
  },
  {
   "cell_type": "code",
   "execution_count": 6,
   "metadata": {},
   "outputs": [],
   "source": [
    "class Linear:\n",
    "    def __init__(self, in_dim, out_dim):\n",
    "        self.w = np.ones([in_dim, out_dim])\n",
    "#         self.w = np.random.randn(in_dim, out_dim)\n",
    "        self.b = np.zeros([1, out_dim])\n",
    "        self.dw = None\n",
    "        self.db = None\n",
    "        self.in_dim = self.w.shape[0]\n",
    "        self.out_dim = self.w.shape[1]\n",
    "\n",
    "        \n",
    "    def forward(self, x):\n",
    "        self.x = x\n",
    "        return np.matmul(x, self.w) + self.b\n",
    "    \n",
    "    def backward(self, d):\n",
    "        print(d.shape)\n",
    "        \n",
    "        self.db = np.mean(d, axis=0)\n",
    "        assert self.db.shape == self.b.shape, (d.shape, self.db.shape, self.b.shape)\n",
    "        \n",
    "        J = np.zeros([self.x.shape[0], self.out_dim, np.prod(self.w.shape)])\n",
    "        j = 0\n",
    "        for i in range(self.out_dim):\n",
    "            J[:, i: i + 1, j: j + self.in_dim] = self.x[:, np.newaxis, :]\n",
    "            j += self.in_dim\n",
    "        \n",
    "        dw = d @ J\n",
    "        \n",
    "        dw = np.reshape(np.mean(dw, axis=0), self.w.shape, order='F')\n",
    "        \n",
    "        self.dw = dw\n",
    "        \n",
    "        d = d @ np.repeat(self.w.T[np.newaxis, ...], d.shape[0], axis=0)\n",
    "        \n",
    "#         print(self.dw, self.db)\n",
    "        return d\n",
    "        \n",
    "    def step(self, lr):\n",
    "        self.w = self.w - lr * self.dw\n",
    "        self.b = self.b - lr * self.db"
   ]
  },
  {
   "cell_type": "code",
   "execution_count": 7,
   "metadata": {},
   "outputs": [],
   "source": [
    "class MeanSquaredError:\n",
    "    def __init__(self):\n",
    "        self.y_ = None\n",
    "    def forward(self, y_, y):\n",
    "        assert y_.shape == y.shape, (y_.shape, y.shape)\n",
    "        self.y_ = y_\n",
    "        self.y = y\n",
    "#         print(y_)\n",
    "        l = 0.5 * np.sum(np.square(y - y_)) / len(y)\n",
    "        return l\n",
    "    \n",
    "    def backward(self):\n",
    "        d = -(self.y - self.y_)[:, np.newaxis, ...]\n",
    "        print(d.shape)\n",
    "        return d"
   ]
  },
  {
   "cell_type": "code",
   "execution_count": 8,
   "metadata": {},
   "outputs": [],
   "source": [
    "class LinearRegression:\n",
    "    def __init__(self):\n",
    "        self.linear1 = Linear(13, 2)\n",
    "        self.linear2 = Linear(2, 2)\n",
    "        self.loss = MeanSquaredError()\n",
    "        \n",
    "    def forward(self, x, y):\n",
    "        x = self.linear1.forward(x)\n",
    "        x = self.linear2.forward(x)\n",
    "        loss = self.loss.forward(x, y)\n",
    "        return loss\n",
    "    \n",
    "    def backward(self):\n",
    "        d = self.loss.backward()\n",
    "        d = self.linear2.backward(d)\n",
    "        d = self.linear1.backward(d)\n",
    "        \n",
    "    \n",
    "    def step(self, lr):\n",
    "        self.linear1.step(lr)\n",
    "        self.linear2.step(lr)\n",
    "        "
   ]
  },
  {
   "cell_type": "code",
   "execution_count": 9,
   "metadata": {},
   "outputs": [],
   "source": [
    "# X = np.array([[1, 2, 3], [1, 2, 3]])\n",
    "# y = np.array([[4], [4]])"
   ]
  },
  {
   "cell_type": "code",
   "execution_count": 10,
   "metadata": {},
   "outputs": [],
   "source": [
    "linreg = LinearRegression()"
   ]
  },
  {
   "cell_type": "code",
   "execution_count": 11,
   "metadata": {},
   "outputs": [
    {
     "name": "stdout",
     "output_type": "stream",
     "text": [
      "1667.3309692990128 loss\n",
      "(506, 1, 2)\n"
     ]
    },
    {
     "ename": "RuntimeError",
     "evalue": "No active exception to reraise",
     "output_type": "error",
     "traceback": [
      "\u001b[0;31m---------------------------------------------------------------------------\u001b[0m",
      "\u001b[0;31mRuntimeError\u001b[0m                              Traceback (most recent call last)",
      "\u001b[0;32m<ipython-input-11-9bf23276e595>\u001b[0m in \u001b[0;36m<module>\u001b[0;34m\u001b[0m\n\u001b[1;32m      3\u001b[0m     \u001b[0;32mif\u001b[0m \u001b[0mi\u001b[0m \u001b[0;34m%\u001b[0m \u001b[0;36m1\u001b[0m \u001b[0;34m==\u001b[0m \u001b[0;36m0\u001b[0m\u001b[0;34m:\u001b[0m\u001b[0;34m\u001b[0m\u001b[0;34m\u001b[0m\u001b[0m\n\u001b[1;32m      4\u001b[0m         \u001b[0mprint\u001b[0m\u001b[0;34m(\u001b[0m\u001b[0mloss\u001b[0m\u001b[0;34m,\u001b[0m \u001b[0;34m'loss'\u001b[0m\u001b[0;34m)\u001b[0m\u001b[0;34m\u001b[0m\u001b[0;34m\u001b[0m\u001b[0m\n\u001b[0;32m----> 5\u001b[0;31m     \u001b[0mlinreg\u001b[0m\u001b[0;34m.\u001b[0m\u001b[0mbackward\u001b[0m\u001b[0;34m(\u001b[0m\u001b[0;34m)\u001b[0m\u001b[0;34m\u001b[0m\u001b[0;34m\u001b[0m\u001b[0m\n\u001b[0m\u001b[1;32m      6\u001b[0m     \u001b[0mlinreg\u001b[0m\u001b[0;34m.\u001b[0m\u001b[0mstep\u001b[0m\u001b[0;34m(\u001b[0m\u001b[0;36m0.01\u001b[0m\u001b[0;34m)\u001b[0m\u001b[0;34m\u001b[0m\u001b[0;34m\u001b[0m\u001b[0m\n",
      "\u001b[0;32m<ipython-input-8-22bd3a961237>\u001b[0m in \u001b[0;36mbackward\u001b[0;34m(self)\u001b[0m\n\u001b[1;32m     12\u001b[0m \u001b[0;34m\u001b[0m\u001b[0m\n\u001b[1;32m     13\u001b[0m     \u001b[0;32mdef\u001b[0m \u001b[0mbackward\u001b[0m\u001b[0;34m(\u001b[0m\u001b[0mself\u001b[0m\u001b[0;34m)\u001b[0m\u001b[0;34m:\u001b[0m\u001b[0;34m\u001b[0m\u001b[0;34m\u001b[0m\u001b[0m\n\u001b[0;32m---> 14\u001b[0;31m         \u001b[0md\u001b[0m \u001b[0;34m=\u001b[0m \u001b[0mself\u001b[0m\u001b[0;34m.\u001b[0m\u001b[0mloss\u001b[0m\u001b[0;34m.\u001b[0m\u001b[0mbackward\u001b[0m\u001b[0;34m(\u001b[0m\u001b[0;34m)\u001b[0m\u001b[0;34m\u001b[0m\u001b[0;34m\u001b[0m\u001b[0m\n\u001b[0m\u001b[1;32m     15\u001b[0m         \u001b[0md\u001b[0m \u001b[0;34m=\u001b[0m \u001b[0mself\u001b[0m\u001b[0;34m.\u001b[0m\u001b[0mlinear2\u001b[0m\u001b[0;34m.\u001b[0m\u001b[0mbackward\u001b[0m\u001b[0;34m(\u001b[0m\u001b[0md\u001b[0m\u001b[0;34m)\u001b[0m\u001b[0;34m\u001b[0m\u001b[0;34m\u001b[0m\u001b[0m\n\u001b[1;32m     16\u001b[0m         \u001b[0md\u001b[0m \u001b[0;34m=\u001b[0m \u001b[0mself\u001b[0m\u001b[0;34m.\u001b[0m\u001b[0mlinear1\u001b[0m\u001b[0;34m.\u001b[0m\u001b[0mbackward\u001b[0m\u001b[0;34m(\u001b[0m\u001b[0md\u001b[0m\u001b[0;34m)\u001b[0m\u001b[0;34m\u001b[0m\u001b[0;34m\u001b[0m\u001b[0m\n",
      "\u001b[0;32m<ipython-input-7-0050d2718612>\u001b[0m in \u001b[0;36mbackward\u001b[0;34m(self)\u001b[0m\n\u001b[1;32m     13\u001b[0m         \u001b[0md\u001b[0m \u001b[0;34m=\u001b[0m \u001b[0;34m-\u001b[0m\u001b[0;34m(\u001b[0m\u001b[0mself\u001b[0m\u001b[0;34m.\u001b[0m\u001b[0my\u001b[0m \u001b[0;34m-\u001b[0m \u001b[0mself\u001b[0m\u001b[0;34m.\u001b[0m\u001b[0my_\u001b[0m\u001b[0;34m)\u001b[0m\u001b[0;34m[\u001b[0m\u001b[0;34m:\u001b[0m\u001b[0;34m,\u001b[0m \u001b[0mnp\u001b[0m\u001b[0;34m.\u001b[0m\u001b[0mnewaxis\u001b[0m\u001b[0;34m,\u001b[0m \u001b[0;34m...\u001b[0m\u001b[0;34m]\u001b[0m\u001b[0;34m\u001b[0m\u001b[0;34m\u001b[0m\u001b[0m\n\u001b[1;32m     14\u001b[0m         \u001b[0mprint\u001b[0m\u001b[0;34m(\u001b[0m\u001b[0md\u001b[0m\u001b[0;34m.\u001b[0m\u001b[0mshape\u001b[0m\u001b[0;34m)\u001b[0m\u001b[0;34m\u001b[0m\u001b[0;34m\u001b[0m\u001b[0m\n\u001b[0;32m---> 15\u001b[0;31m         \u001b[0;32mraise\u001b[0m\u001b[0;34m\u001b[0m\u001b[0;34m\u001b[0m\u001b[0m\n\u001b[0m\u001b[1;32m     16\u001b[0m         \u001b[0;32mreturn\u001b[0m \u001b[0md\u001b[0m\u001b[0;34m\u001b[0m\u001b[0;34m\u001b[0m\u001b[0m\n",
      "\u001b[0;31mRuntimeError\u001b[0m: No active exception to reraise"
     ]
    }
   ],
   "source": [
    "for i in range(1):\n",
    "    loss = linreg.forward(X, y)\n",
    "    if i % 1 == 0:\n",
    "        print(loss, 'loss')\n",
    "    linreg.backward()\n",
    "    linreg.step(0.01)\n"
   ]
  },
  {
   "cell_type": "code",
   "execution_count": null,
   "metadata": {},
   "outputs": [],
   "source": [
    "from sklearn.linear_model import LinearRegression"
   ]
  },
  {
   "cell_type": "code",
   "execution_count": null,
   "metadata": {},
   "outputs": [],
   "source": [
    "lr = LinearRegression()"
   ]
  },
  {
   "cell_type": "code",
   "execution_count": null,
   "metadata": {},
   "outputs": [],
   "source": [
    "lr.fit(X, y)"
   ]
  },
  {
   "cell_type": "code",
   "execution_count": null,
   "metadata": {},
   "outputs": [],
   "source": [
    "np.sum(0.5 * (lr.predict(X) - y) ** 2) / len(X)"
   ]
  },
  {
   "cell_type": "code",
   "execution_count": null,
   "metadata": {},
   "outputs": [],
   "source": []
  },
  {
   "cell_type": "code",
   "execution_count": null,
   "metadata": {},
   "outputs": [],
   "source": [
    "linreg.linear.forward(X).sum()"
   ]
  },
  {
   "cell_type": "code",
   "execution_count": null,
   "metadata": {},
   "outputs": [],
   "source": [
    "lr.predict(X).sum()"
   ]
  },
  {
   "cell_type": "code",
   "execution_count": null,
   "metadata": {},
   "outputs": [],
   "source": []
  }
 ],
 "metadata": {
  "kernelspec": {
   "display_name": "Python 3",
   "language": "python",
   "name": "python3"
  },
  "language_info": {
   "codemirror_mode": {
    "name": "ipython",
    "version": 3
   },
   "file_extension": ".py",
   "mimetype": "text/x-python",
   "name": "python",
   "nbconvert_exporter": "python",
   "pygments_lexer": "ipython3",
   "version": "3.7.6"
  }
 },
 "nbformat": 4,
 "nbformat_minor": 4
}
