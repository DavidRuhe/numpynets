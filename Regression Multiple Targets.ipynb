{
 "cells": [
  {
   "cell_type": "code",
   "execution_count": 28,
   "metadata": {},
   "outputs": [],
   "source": [
    "import numpy as np\n",
    "from sklearn.datasets import load_linnerud\n",
    "from sklearn.preprocessing import StandardScaler"
   ]
  },
  {
   "cell_type": "code",
   "execution_count": 29,
   "metadata": {},
   "outputs": [],
   "source": [
    "X, y = load_linnerud(return_X_y=True)"
   ]
  },
  {
   "cell_type": "code",
   "execution_count": 30,
   "metadata": {},
   "outputs": [],
   "source": [
    "X = StandardScaler().fit_transform(X)"
   ]
  },
  {
   "cell_type": "code",
   "execution_count": 31,
   "metadata": {},
   "outputs": [],
   "source": [
    "class Linear:\n",
    "    def __init__(self, in_dim, out_dim):\n",
    "        self.w = np.random.randn(in_dim, out_dim)\n",
    "        self.b = np.zeros(out_dim)\n",
    "        self.dw = None\n",
    "        self.db = None\n",
    "        \n",
    "    def forward(self, x):\n",
    "        return np.matmul(x, self.w) + self.b\n",
    "    \n",
    "    def backward(self, d, x):\n",
    "        self.dw = np.matmul(x.T, d)\n",
    "        assert self.dw.shape == self.w.shape\n",
    "        self.db = d\n",
    "        \n",
    "    def step(self, lr):\n",
    "        self.w = self.w - lr * self.dw\n",
    "        self.b = self.b - lr * self.db"
   ]
  },
  {
   "cell_type": "code",
   "execution_count": 32,
   "metadata": {},
   "outputs": [],
   "source": [
    "class MeanSquaredError:\n",
    "    def __init__(self, average=True): \n",
    "        self.average = average\n",
    "    def forward(self, y_, y):\n",
    "        assert y_.shape == y.shape\n",
    "        l = np.sum(np.square(y - y_))\n",
    "        if self.average:\n",
    "            l /= len(y)\n",
    "        return y_, l\n",
    "    \n",
    "    def backward(self, y_, y, average=True):\n",
    "        d = -(y - y_)\n",
    "        if average:\n",
    "            d /= len(d)\n",
    "        return d"
   ]
  },
  {
   "cell_type": "code",
   "execution_count": 33,
   "metadata": {},
   "outputs": [],
   "source": [
    "class LinearRegression:\n",
    "    def __init__(self):\n",
    "        self.linear = Linear(3, 3)\n",
    "        self.loss = MeanSquaredError()\n",
    "        \n",
    "    def forward(self, x, y):\n",
    "        x = self.linear.forward(x)\n",
    "        loss = self.loss.forward(x, y)\n",
    "        return loss\n",
    "    \n",
    "    def backward(self, x, y_, y):\n",
    "        d = self.loss.backward(y_, y)\n",
    "        self.linear.backward(d, x)\n",
    "    \n",
    "    def step(self, lr):\n",
    "        self.linear.step(lr)\n",
    "        "
   ]
  },
  {
   "cell_type": "code",
   "execution_count": 34,
   "metadata": {},
   "outputs": [],
   "source": [
    "linreg = LinearRegression()"
   ]
  },
  {
   "cell_type": "code",
   "execution_count": 35,
   "metadata": {},
   "outputs": [
    {
     "name": "stdout",
     "output_type": "stream",
     "text": [
      "36950.33983532977 loss\n",
      "1.6281091163988937 loss\n",
      "7.208501605772943e-05 loss\n",
      "3.191585556732431e-09 loss\n",
      "1.4130840142424312e-13 loss\n",
      "6.2565652149461906e-18 loss\n",
      "2.792789299640298e-22 loss\n",
      "8.744598233933092e-24 loss\n",
      "8.744598233933092e-24 loss\n",
      "8.744598233933092e-24 loss\n",
      "8.744598233933092e-24 loss\n",
      "8.744598233933092e-24 loss\n",
      "8.744598233933092e-24 loss\n",
      "8.744598233933092e-24 loss\n",
      "8.744598233933092e-24 loss\n",
      "8.744598233933092e-24 loss\n",
      "8.744598233933092e-24 loss\n",
      "8.744598233933092e-24 loss\n",
      "8.744598233933092e-24 loss\n",
      "8.744598233933092e-24 loss\n",
      "8.744598233933092e-24 loss\n",
      "8.744598233933092e-24 loss\n",
      "8.744598233933092e-24 loss\n",
      "8.744598233933092e-24 loss\n",
      "8.744598233933092e-24 loss\n",
      "8.744598233933092e-24 loss\n",
      "8.744598233933092e-24 loss\n",
      "8.744598233933092e-24 loss\n",
      "8.744598233933092e-24 loss\n",
      "8.744598233933092e-24 loss\n",
      "8.744598233933092e-24 loss\n",
      "8.744598233933092e-24 loss\n",
      "8.744598233933092e-24 loss\n",
      "8.744598233933092e-24 loss\n",
      "8.744598233933092e-24 loss\n",
      "8.744598233933092e-24 loss\n",
      "8.744598233933092e-24 loss\n",
      "8.744598233933092e-24 loss\n",
      "8.744598233933092e-24 loss\n",
      "8.744598233933092e-24 loss\n",
      "8.744598233933092e-24 loss\n",
      "8.744598233933092e-24 loss\n",
      "8.744598233933092e-24 loss\n",
      "8.744598233933092e-24 loss\n",
      "8.744598233933092e-24 loss\n",
      "8.744598233933092e-24 loss\n",
      "8.744598233933092e-24 loss\n",
      "8.744598233933092e-24 loss\n",
      "8.744598233933092e-24 loss\n",
      "8.744598233933092e-24 loss\n",
      "8.744598233933092e-24 loss\n",
      "8.744598233933092e-24 loss\n",
      "8.744598233933092e-24 loss\n",
      "8.744598233933092e-24 loss\n",
      "8.744598233933092e-24 loss\n",
      "8.744598233933092e-24 loss\n",
      "8.744598233933092e-24 loss\n",
      "8.744598233933092e-24 loss\n",
      "8.744598233933092e-24 loss\n",
      "8.744598233933092e-24 loss\n",
      "8.744598233933092e-24 loss\n",
      "8.744598233933092e-24 loss\n",
      "8.744598233933092e-24 loss\n",
      "8.744598233933092e-24 loss\n",
      "8.744598233933092e-24 loss\n",
      "8.744598233933092e-24 loss\n",
      "8.744598233933092e-24 loss\n",
      "8.744598233933092e-24 loss\n",
      "8.744598233933092e-24 loss\n",
      "8.744598233933092e-24 loss\n",
      "8.744598233933092e-24 loss\n",
      "8.744598233933092e-24 loss\n",
      "8.744598233933092e-24 loss\n",
      "8.744598233933092e-24 loss\n",
      "8.744598233933092e-24 loss\n",
      "8.744598233933092e-24 loss\n",
      "8.744598233933092e-24 loss\n",
      "8.744598233933092e-24 loss\n",
      "8.744598233933092e-24 loss\n",
      "8.744598233933092e-24 loss\n",
      "8.744598233933092e-24 loss\n",
      "8.744598233933092e-24 loss\n",
      "8.744598233933092e-24 loss\n",
      "8.744598233933092e-24 loss\n",
      "8.744598233933092e-24 loss\n",
      "8.744598233933092e-24 loss\n",
      "8.744598233933092e-24 loss\n",
      "8.744598233933092e-24 loss\n",
      "8.744598233933092e-24 loss\n",
      "8.744598233933092e-24 loss\n",
      "8.744598233933092e-24 loss\n",
      "8.744598233933092e-24 loss\n",
      "8.744598233933092e-24 loss\n",
      "8.744598233933092e-24 loss\n",
      "8.744598233933092e-24 loss\n",
      "8.744598233933092e-24 loss\n",
      "8.744598233933092e-24 loss\n",
      "8.744598233933092e-24 loss\n",
      "8.744598233933092e-24 loss\n",
      "8.744598233933092e-24 loss\n"
     ]
    }
   ],
   "source": [
    "for i in range(100000):\n",
    "    y_, loss = linreg.forward(X, y)\n",
    "    if i % 1000 == 0:\n",
    "        print(loss, 'loss')\n",
    "    linreg.backward(X, y_, y)\n",
    "    linreg.step(0.1)\n"
   ]
  },
  {
   "cell_type": "code",
   "execution_count": null,
   "metadata": {},
   "outputs": [],
   "source": []
  },
  {
   "cell_type": "code",
   "execution_count": null,
   "metadata": {},
   "outputs": [],
   "source": []
  },
  {
   "cell_type": "code",
   "execution_count": null,
   "metadata": {},
   "outputs": [],
   "source": []
  }
 ],
 "metadata": {
  "kernelspec": {
   "display_name": "Python 3",
   "language": "python",
   "name": "python3"
  },
  "language_info": {
   "codemirror_mode": {
    "name": "ipython",
    "version": 3
   },
   "file_extension": ".py",
   "mimetype": "text/x-python",
   "name": "python",
   "nbconvert_exporter": "python",
   "pygments_lexer": "ipython3",
   "version": "3.7.6"
  }
 },
 "nbformat": 4,
 "nbformat_minor": 4
}
