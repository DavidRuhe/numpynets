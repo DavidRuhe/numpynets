{
 "cells": [
  {
   "cell_type": "code",
   "execution_count": 61,
   "metadata": {},
   "outputs": [],
   "source": [
    "import numpy as np\n",
    "from sklearn.datasets import load_digits\n",
    "from sklearn.preprocessing import StandardScaler\n",
    "import torch\n",
    "import os"
   ]
  },
  {
   "cell_type": "code",
   "execution_count": 62,
   "metadata": {},
   "outputs": [],
   "source": [
    "from sklearn.datasets import fetch_openml\n",
    "\n",
    "if os.path.exists('X.npy') and os.path.exists('y.npy'):\n",
    "    X = np.load('X.npy', allow_pickle=True)\n",
    "    y = np.load('y.npy', allow_pickle=True)\n",
    "else:\n",
    "    X, y = fetch_openml('mnist_784', version=1, return_X_y=True)\n",
    "    np.save('X.npy', X)\n",
    "    np.save('y.npy', y)"
   ]
  },
  {
   "cell_type": "code",
   "execution_count": 63,
   "metadata": {},
   "outputs": [],
   "source": [
    "# X, y = load_digits(return_X_y=True)\n",
    "\n",
    "y = np.eye(10)[y.astype(np.int32)].astype(np.float32)\n",
    "X = StandardScaler().fit_transform(X)"
   ]
  },
  {
   "cell_type": "code",
   "execution_count": 64,
   "metadata": {},
   "outputs": [
    {
     "data": {
      "text/plain": [
       "((70000, 784), (70000, 10))"
      ]
     },
     "execution_count": 64,
     "metadata": {},
     "output_type": "execute_result"
    }
   ],
   "source": [
    "X.shape, y.shape"
   ]
  },
  {
   "cell_type": "code",
   "execution_count": 65,
   "metadata": {},
   "outputs": [],
   "source": [
    "num_features = 784"
   ]
  },
  {
   "cell_type": "code",
   "execution_count": 66,
   "metadata": {},
   "outputs": [],
   "source": [
    "# X = X[:100, :num_features]\n",
    "# y = y[:100]"
   ]
  },
  {
   "cell_type": "code",
   "execution_count": 67,
   "metadata": {},
   "outputs": [],
   "source": [
    "w1 = torch.repeat_interleave(torch.linspace(-0.1, 0.1, 32)[None, ...], num_features, dim=0)\n",
    "w2 = torch.repeat_interleave(torch.linspace(-0.1, 0.1, 10)[None, ...], 32, dim=0)\n",
    "\n",
    "# w1 = torch.randn(73, 32) * 0.01\n",
    "# w2 = torch.randn(32, 10) * 0.01\n",
    "\n",
    "b1 = torch.zeros(32)\n",
    "b2 = torch.zeros(10)\n",
    "\n",
    "X_t = torch.from_numpy(X).float()\n",
    "y_t = torch.from_numpy(y).float()"
   ]
  },
  {
   "cell_type": "code",
   "execution_count": 68,
   "metadata": {},
   "outputs": [],
   "source": [
    "batch_size = 128"
   ]
  },
  {
   "cell_type": "code",
   "execution_count": 69,
   "metadata": {},
   "outputs": [
    {
     "data": {
      "text/plain": [
       "((70000, 784), (70000, 10))"
      ]
     },
     "execution_count": 69,
     "metadata": {},
     "output_type": "execute_result"
    }
   ],
   "source": [
    "X.shape, y.shape"
   ]
  },
  {
   "cell_type": "code",
   "execution_count": 70,
   "metadata": {},
   "outputs": [],
   "source": [
    "lr = 0.01"
   ]
  },
  {
   "cell_type": "code",
   "execution_count": 71,
   "metadata": {},
   "outputs": [
    {
     "name": "stdout",
     "output_type": "stream",
     "text": [
      "tensor(2.3828)\n",
      "tensor(13.6359)\n",
      "tensor(10.1083, grad_fn=<DivBackward0>)\n",
      "tensor(1.5576)\n",
      "tensor(7.7059)\n",
      "tensor(6.4972, grad_fn=<DivBackward0>)\n",
      "tensor(1.4608)\n",
      "tensor(8.2745)\n",
      "tensor(6.0974, grad_fn=<DivBackward0>)\n",
      "tensor(1.7375)\n",
      "tensor(9.9127)\n",
      "tensor(6.8717, grad_fn=<DivBackward0>)\n",
      "tensor(1.2178)\n",
      "tensor(6.7767)\n",
      "tensor(4.7786, grad_fn=<DivBackward0>)\n"
     ]
    }
   ],
   "source": [
    "for i in range(1):\n",
    "    for j in range(0, 5 * batch_size, batch_size):\n",
    "        \n",
    "        X_batch = X_t[j: j + batch_size]\n",
    "        y_batch = y_t[j: j + batch_size]\n",
    "\n",
    "\n",
    "        w1.requires_grad = True\n",
    "        b1.requires_grad = True\n",
    "        w2.requires_grad = True\n",
    "        b2.requires_grad = True\n",
    "\n",
    "\n",
    "        z1 = X_batch @ w1 + b1\n",
    "    #     print(torch.norm(z1))\n",
    "        a1 = torch.max(torch.zeros_like(z1), z1)\n",
    "    #     a1 = torch.nn.functional.relu(z1)\n",
    "    #     print(torch.norm(a1))\n",
    "\n",
    "        z2 = a1 @ w2 + b2\n",
    "        sm_scale = z2 - torch.max(z2, axis=-1, keepdims=True)[0]\n",
    "        y__t = torch.exp(sm_scale) / torch.sum(torch.exp(sm_scale), keepdims=True, axis=-1)\n",
    "        assert y__t.shape == y_batch.shape\n",
    "    #     print(torch.norm(y__t))\n",
    "        logy = torch.log(y__t)\n",
    "    #     logy.requires_grad = True\n",
    "\n",
    "    #     print(torch.norm(logy))\n",
    "        ce = - y_batch * logy\n",
    "        l = torch.sum(ce) / len(y_batch)\n",
    "    #     l = torch.sum(ce)\n",
    "        l.backward()\n",
    "        print(torch.norm(w1.grad))\n",
    "        print(torch.norm(w2.grad))\n",
    "\n",
    "        if i % 1 == 0:\n",
    "            print(l)\n",
    "\n",
    "        w1 = w1.data - lr * w1.grad\n",
    "        w2 = w2.data - lr * w2.grad\n",
    "\n",
    "        b1 = b1.data - lr * b1.grad\n",
    "        b2 = b2.data - lr * b2.grad\n",
    "\n",
    "\n",
    "    \n",
    "    "
   ]
  },
  {
   "cell_type": "code",
   "execution_count": 72,
   "metadata": {},
   "outputs": [],
   "source": [
    "class Linear:\n",
    "    def __init__(self, in_dim, out_dim):\n",
    "        self.w = np.zeros([in_dim, out_dim])\n",
    "        self.w = np.repeat(np.linspace(-0.1, 0.1, out_dim)[np.newaxis, ...], in_dim, axis=0)\n",
    "\n",
    "#         self.w = np.random.randn(in_dim, out_dim)\n",
    "        self.b = np.zeros([1, out_dim])\n",
    "        self.dw = None\n",
    "        self.db = None\n",
    "        self.in_dim = self.w.shape[0]\n",
    "        self.out_dim = self.w.shape[1]\n",
    "\n",
    "        \n",
    "    def forward(self, x):\n",
    "        self.x = x\n",
    "        return np.matmul(x, self.w) + self.b\n",
    "    \n",
    "    def backward(self, d):\n",
    "        self.db = np.mean(d, axis=0)\n",
    "        assert self.db.shape == self.b.shape, (d.shape, self.db.shape, self.b.shape)\n",
    "        \n",
    "        J = np.zeros([self.x.shape[0], self.out_dim, np.prod(self.w.shape)])\n",
    "        j = 0\n",
    "        for i in range(self.out_dim):\n",
    "            J[:, i: i + 1, j: j + self.in_dim] = self.x[:, np.newaxis, :]\n",
    "            j += self.in_dim\n",
    "        \n",
    "        dw = d @ J\n",
    "        \n",
    "        dw = np.reshape(np.mean(dw, axis=0), self.w.shape, order='F')\n",
    "        \n",
    "        self.dw = dw\n",
    "        \n",
    "        d = d @ np.repeat(self.w.T[np.newaxis, ...], d.shape[0], axis=0)\n",
    "        \n",
    "        return d\n",
    "        \n",
    "    def step(self, lr):\n",
    "        self.w = self.w - lr * self.dw\n",
    "        self.b = self.b - lr * self.db"
   ]
  },
  {
   "cell_type": "code",
   "execution_count": 73,
   "metadata": {},
   "outputs": [],
   "source": [
    "class ReLU:\n",
    "    def __init__(self):\n",
    "        self.a = None\n",
    "        \n",
    "    def forward(self, x):\n",
    "        self.a = np.maximum(x, 0)\n",
    "        return self.a\n",
    "    \n",
    "    def backward(self, d):\n",
    "        return d * (self.a != 0)[:, np.newaxis, :].astype(np.float32)\n",
    "        "
   ]
  },
  {
   "cell_type": "code",
   "execution_count": 74,
   "metadata": {},
   "outputs": [],
   "source": [
    "class Softmax:\n",
    "    def __init__(self):\n",
    "        self.a = None\n",
    "        \n",
    "    def forward(self, x):\n",
    "        assert len(x.shape) == 2\n",
    "        x = x - np.max(x, axis=-1, keepdims=True)\n",
    "        self.a = np.exp(x) / np.sum(np.exp(x), keepdims=True, axis=-1)\n",
    "        return self.a\n",
    "    def backward(self, d):\n",
    "        \n",
    "        diag = np.stack([np.diag(self.a[i]) for i in range(len(self.a))])\n",
    "        op = np.stack([np.outer(self.a[i], self.a[i]) for i in range(len(self.a))])\n",
    "        J = diag - op\n",
    "        \n",
    "        return d[:, np.newaxis, ...] @ J"
   ]
  },
  {
   "cell_type": "code",
   "execution_count": 75,
   "metadata": {},
   "outputs": [],
   "source": [
    "class CrossEntropy:\n",
    "    def forward(self, y_, y):\n",
    "        \n",
    "        l = - np.sum(y * np.log(y_))\n",
    "        l /= len(y)\n",
    "        return y_, l\n",
    "    \n",
    "    def backward(self, y_, y):\n",
    "        assert y_.shape == y.shape\n",
    "        d =  - y / y_\n",
    "        return d"
   ]
  },
  {
   "cell_type": "code",
   "execution_count": 76,
   "metadata": {},
   "outputs": [],
   "source": [
    "class MLP:\n",
    "    def __init__(self):\n",
    "        self.linear1 = Linear(784, 32)\n",
    "        self.relu1 = ReLU()\n",
    "        self.linear2 = Linear(32, 10)\n",
    "#         self.relu2 = ReLU()\n",
    "#         self.linear3 = Linear(32, 10)\n",
    "        self.softmax = Softmax()\n",
    "        self.loss = CrossEntropy()\n",
    "        \n",
    "    def forward(self, x, y):\n",
    "        x = self.linear1.forward(x)\n",
    "        x = self.relu1.forward(x)\n",
    "        x = self.linear2.forward(x)\n",
    "#         x = self.relu2.forward(x)\n",
    "#         x = self.linear3.forward(x)\n",
    "        x = self.softmax.forward(x)\n",
    "        loss = self.loss.forward(x, y)\n",
    "        return loss\n",
    "    \n",
    "    def backward(self, y_, y):\n",
    "        d = self.loss.backward(y_, y)\n",
    "        d = self.softmax.backward(d)\n",
    "#         d = self.linear3.backward(d)\n",
    "#         d = self.relu2.backward(d)\n",
    "        d = self.linear2.backward(d)\n",
    "        d = self.relu1.backward(d)\n",
    "        d = self.linear1.backward(d)\n",
    "\n",
    "    \n",
    "    def step(self, lr):\n",
    "        print(np.linalg.norm(self.linear1.dw))\n",
    "        self.linear1.step(lr)\n",
    "        print(np.linalg.norm(self.linear2.dw))\n",
    "        self.linear2.step(lr)\n",
    "#         self.linear3.step(lr)\n",
    "\n",
    "        "
   ]
  },
  {
   "cell_type": "code",
   "execution_count": 78,
   "metadata": {},
   "outputs": [],
   "source": [
    "mlp = MLP()"
   ]
  },
  {
   "cell_type": "code",
   "execution_count": 79,
   "metadata": {},
   "outputs": [
    {
     "name": "stdout",
     "output_type": "stream",
     "text": [
      "2.3828043360516906\n",
      "13.635874886491942\n",
      "10.10825352110885 loss\n",
      "0.1015625\n",
      "1.557595194972053\n",
      "7.705902286545122\n",
      "6.497165056695555 loss\n",
      "0.125\n",
      "1.4608140989410092\n",
      "8.274531718494313\n",
      "6.097363457068974 loss\n",
      "0.1640625\n",
      "1.7374628317471967\n",
      "9.912711029512327\n",
      "6.871654922894726 loss\n",
      "0.1484375\n",
      "1.2178036918121307\n",
      "6.776748023687062\n",
      "4.778580232578671 loss\n",
      "0.09375\n"
     ]
    }
   ],
   "source": [
    "for i in range(1):\n",
    "#     for j in range(0, len(X), batch_size):\n",
    "    for j in range(0, 5 * batch_size, batch_size):\n",
    "\n",
    "        X_batch = X[j: j + batch_size]\n",
    "        y_batch = y[j: j + batch_size]\n",
    "        y_, loss = mlp.forward(X_batch, y_batch)\n",
    "        mlp.backward(y_, y_batch)\n",
    "        mlp.step(lr=0.01)\n",
    "        if j % 1 == 0:\n",
    "#             print(j)\n",
    "            print(loss, 'loss')\n",
    "            print((np.argmax(y_, axis=-1) == np.argmax(y_batch, axis=-1)).sum() / len(y_batch))"
   ]
  },
  {
   "cell_type": "code",
   "execution_count": null,
   "metadata": {},
   "outputs": [],
   "source": []
  },
  {
   "cell_type": "code",
   "execution_count": null,
   "metadata": {},
   "outputs": [],
   "source": []
  },
  {
   "cell_type": "code",
   "execution_count": null,
   "metadata": {},
   "outputs": [],
   "source": []
  },
  {
   "cell_type": "code",
   "execution_count": null,
   "metadata": {},
   "outputs": [],
   "source": []
  }
 ],
 "metadata": {
  "kernelspec": {
   "display_name": "Python 3",
   "language": "python",
   "name": "python3"
  },
  "language_info": {
   "codemirror_mode": {
    "name": "ipython",
    "version": 3
   },
   "file_extension": ".py",
   "mimetype": "text/x-python",
   "name": "python",
   "nbconvert_exporter": "python",
   "pygments_lexer": "ipython3",
   "version": "3.7.6"
  }
 },
 "nbformat": 4,
 "nbformat_minor": 4
}
