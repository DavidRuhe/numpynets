{
 "cells": [
  {
   "cell_type": "code",
   "execution_count": 1,
   "metadata": {},
   "outputs": [],
   "source": [
    "import numpy as np"
   ]
  },
  {
   "cell_type": "code",
   "execution_count": 2,
   "metadata": {},
   "outputs": [],
   "source": [
    "class Linear:\n",
    "    def __init__(self, in_dim, out_dim):\n",
    "        self.w = np.random.randn(in_dim, out_dim)\n",
    "        self.b = np.zeros(out_dim)\n",
    "        self.dw = None\n",
    "        self.db = None\n",
    "        \n",
    "    def forward(self, x):\n",
    "        return np.matmul(x, self.w) + self.b\n",
    "    \n",
    "    def backward(self, d, x):\n",
    "        self.dw = d * x\n",
    "        assert self.dw.T.shape == self.w.shape, (self.dw.T.shape, self.w.shape)\n",
    "        self.db = d\n",
    "        \n",
    "    def step(self, lr):\n",
    "        print(self.dw.shape, self.w.shape)\n",
    "        self.w = self.w - lr * self.dw.T\n",
    "        self.b = self.b - lr * self.db"
   ]
  },
  {
   "cell_type": "code",
   "execution_count": 3,
   "metadata": {},
   "outputs": [],
   "source": [
    "class MeanSquaredError:\n",
    "    def __init__(self): \n",
    "        pass\n",
    "    def forward(self, y_, y):\n",
    "        assert y_.shape == y.shape\n",
    "        return y_, np.sum(np.square(y - y_))\n",
    "    \n",
    "    def backward(self, y_, y):\n",
    "        return -(y - y_)"
   ]
  },
  {
   "cell_type": "code",
   "execution_count": 4,
   "metadata": {},
   "outputs": [],
   "source": [
    "class LinearRegression:\n",
    "    def __init__(self):\n",
    "        self.linear = Linear(8, 1)\n",
    "        self.loss = MeanSquaredError()\n",
    "        \n",
    "    def forward(self, x, y):\n",
    "        x = self.linear.forward(x)\n",
    "        loss = self.loss.forward(x, y)\n",
    "        return loss\n",
    "    \n",
    "    def backward(self, x, y_, y):\n",
    "        d = self.loss.backward(y_, y)\n",
    "        self.linear.backward(d, x)\n",
    "    \n",
    "    def step(self, lr):\n",
    "        self.linear.step(lr)\n",
    "        "
   ]
  },
  {
   "cell_type": "code",
   "execution_count": 5,
   "metadata": {},
   "outputs": [],
   "source": [
    "linreg = LinearRegression()"
   ]
  },
  {
   "cell_type": "code",
   "execution_count": 6,
   "metadata": {},
   "outputs": [],
   "source": [
    "x = np.random.randn(1, 8)\n",
    "y = np.ones([1, 1])"
   ]
  },
  {
   "cell_type": "code",
   "execution_count": 7,
   "metadata": {},
   "outputs": [
    {
     "name": "stdout",
     "output_type": "stream",
     "text": [
      "(1, 8) (8, 1)\n",
      "0.2891110748431639 loss\n",
      "(1, 8) (8, 1)\n",
      "0.09450205198452707 loss\n",
      "(1, 8) (8, 1)\n",
      "0.03088998868040899 loss\n",
      "(1, 8) (8, 1)\n",
      "0.010097044250764313 loss\n",
      "(1, 8) (8, 1)\n",
      "0.003300431853720666 loss\n",
      "(1, 8) (8, 1)\n",
      "0.0010788157554355096 loss\n",
      "(1, 8) (8, 1)\n",
      "0.0003526336812147316 loss\n",
      "(1, 8) (8, 1)\n",
      "0.00011526575552917583 loss\n",
      "(1, 8) (8, 1)\n",
      "3.767704307752194e-05 loss\n",
      "(1, 8) (8, 1)\n",
      "1.2315536115199025e-05 loss\n",
      "(1, 8) (8, 1)\n",
      "4.025592706219572e-06 loss\n",
      "(1, 8) (8, 1)\n",
      "1.3158498732638632e-06 loss\n",
      "(1, 8) (8, 1)\n",
      "4.301132815289291e-07 loss\n",
      "(1, 8) (8, 1)\n",
      "1.4059159688814402e-07 loss\n",
      "(1, 8) (8, 1)\n",
      "4.595532843191205e-08 loss\n",
      "(1, 8) (8, 1)\n",
      "1.5021468267052246e-08 loss\n",
      "(1, 8) (8, 1)\n",
      "4.9100836965304e-09 loss\n",
      "(1, 8) (8, 1)\n",
      "1.6049644067999104e-09 loss\n",
      "(1, 8) (8, 1)\n",
      "5.246164640504388e-10 loss\n",
      "(1, 8) (8, 1)\n",
      "1.714819551110857e-10 loss\n"
     ]
    }
   ],
   "source": [
    "for _ in range(20):\n",
    "    y_, loss = linreg.forward(x, y)\n",
    "    linreg.backward(x, y_, y)\n",
    "    linreg.step(0.1)\n",
    "    print(loss, 'loss')"
   ]
  },
  {
   "cell_type": "code",
   "execution_count": null,
   "metadata": {},
   "outputs": [],
   "source": []
  },
  {
   "cell_type": "code",
   "execution_count": null,
   "metadata": {},
   "outputs": [],
   "source": []
  }
 ],
 "metadata": {
  "kernelspec": {
   "display_name": "Python 3",
   "language": "python",
   "name": "python3"
  },
  "language_info": {
   "codemirror_mode": {
    "name": "ipython",
    "version": 3
   },
   "file_extension": ".py",
   "mimetype": "text/x-python",
   "name": "python",
   "nbconvert_exporter": "python",
   "pygments_lexer": "ipython3",
   "version": "3.7.4"
  }
 },
 "nbformat": 4,
 "nbformat_minor": 2
}
