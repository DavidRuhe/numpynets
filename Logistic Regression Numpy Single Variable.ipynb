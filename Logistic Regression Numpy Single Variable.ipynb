{
 "cells": [
  {
   "cell_type": "code",
   "execution_count": 112,
   "metadata": {},
   "outputs": [],
   "source": [
    "import numpy as np"
   ]
  },
  {
   "cell_type": "code",
   "execution_count": 113,
   "metadata": {},
   "outputs": [],
   "source": [
    "class Linear:\n",
    "    def __init__(self, in_dim, out_dim):\n",
    "        self.w = np.ones([in_dim, out_dim]) / 2\n",
    "        self.b = -np.ones([out_dim]) / 2\n",
    "        self.dw = None\n",
    "        self.db = None\n",
    "        \n",
    "    def forward(self, x):\n",
    "        return np.matmul(x, self.w) + self.b\n",
    "    \n",
    "    def backward(self, d, x):\n",
    "        self.dw = d * x\n",
    "        self.db = d\n",
    "        \n",
    "    def step(self, lr):\n",
    "        self.w = self.w - lr * self.dw\n",
    "        self.b = self.b - lr * self.db"
   ]
  },
  {
   "cell_type": "code",
   "execution_count": 114,
   "metadata": {},
   "outputs": [],
   "source": [
    "class Sigmoid:\n",
    "    def __init__(self):\n",
    "        self.a = None\n",
    "    def forward(self, x):\n",
    "        self.a = 1 / (1 + np.exp(-x))\n",
    "        return self.a\n",
    "    def backward(self, d):\n",
    "        return d * (self.a * (1-self.a))"
   ]
  },
  {
   "cell_type": "code",
   "execution_count": 115,
   "metadata": {},
   "outputs": [],
   "source": [
    "class BinaryCrossEntropy:\n",
    "    def __init__(self): \n",
    "        pass\n",
    "    def forward(self, y_, y):\n",
    "        return y_, -(y * np.log(y_) + (1 - y) * np.log(1 - y_))\n",
    "    \n",
    "    def backward(self, y_, y):\n",
    "        return -y / y_ + (1 - y) / y_"
   ]
  },
  {
   "cell_type": "code",
   "execution_count": 116,
   "metadata": {},
   "outputs": [],
   "source": [
    "class LinearRegression:\n",
    "    def __init__(self):\n",
    "        self.linear = Linear(1, 1)\n",
    "        self.sigmoid = Sigmoid()\n",
    "        self.loss = BinaryCrossEntropy()\n",
    "        \n",
    "    def forward(self, x, y):\n",
    "        x = self.linear.forward(x)\n",
    "        x = self.sigmoid.forward(x)\n",
    "        loss = self.loss.forward(x, y)\n",
    "        return loss\n",
    "    \n",
    "    def backward(self, x, y_, y):\n",
    "        d = self.loss.backward(y_, y)\n",
    "        d = self.sigmoid.backward(d)\n",
    "        self.linear.backward(d, x)\n",
    "    \n",
    "    def step(self, lr):\n",
    "        self.linear.step(lr)\n",
    "        "
   ]
  },
  {
   "cell_type": "code",
   "execution_count": 117,
   "metadata": {},
   "outputs": [],
   "source": [
    "linreg = LinearRegression()"
   ]
  },
  {
   "cell_type": "code",
   "execution_count": 118,
   "metadata": {},
   "outputs": [],
   "source": [
    "x = np.array([1])\n",
    "y = np.array([1])"
   ]
  },
  {
   "cell_type": "code",
   "execution_count": 120,
   "metadata": {},
   "outputs": [
    {
     "name": "stdout",
     "output_type": "stream",
     "text": [
      "[0.01010924] loss\n",
      "[0.00990891] loss\n",
      "[0.00971635] loss\n",
      "[0.00953114] loss\n",
      "[0.00935286] loss\n",
      "[0.00918112] loss\n",
      "[0.00901558] loss\n",
      "[0.0088559] loss\n",
      "[0.00870178] loss\n",
      "[0.00855293] loss\n",
      "[0.00840909] loss\n",
      "[0.00827001] loss\n",
      "[0.00813545] loss\n",
      "[0.0080052] loss\n",
      "[0.00787905] loss\n",
      "[0.00775682] loss\n",
      "[0.00763833] loss\n",
      "[0.0075234] loss\n",
      "[0.00741187] loss\n",
      "[0.00730361] loss\n",
      "[0.00719846] loss\n",
      "[0.0070963] loss\n",
      "[0.00699699] loss\n",
      "[0.00690043] loss\n",
      "[0.00680649] loss\n",
      "[0.00671508] loss\n",
      "[0.00662609] loss\n",
      "[0.00653943] loss\n",
      "[0.00645501] loss\n",
      "[0.00637274] loss\n",
      "[0.00629254] loss\n",
      "[0.00621433] loss\n",
      "[0.00613804] loss\n",
      "[0.00606361] loss\n",
      "[0.00599095] loss\n",
      "[0.00592002] loss\n",
      "[0.00585075] loss\n",
      "[0.00578308] loss\n",
      "[0.00571696] loss\n",
      "[0.00565233] loss\n",
      "[0.00558915] loss\n",
      "[0.00552736] loss\n",
      "[0.00546693] loss\n",
      "[0.0054078] loss\n",
      "[0.00534994] loss\n",
      "[0.0052933] loss\n",
      "[0.00523785] loss\n",
      "[0.00518355] loss\n",
      "[0.00513036] loss\n",
      "[0.00507825] loss\n",
      "[0.0050272] loss\n",
      "[0.00497715] loss\n",
      "[0.0049281] loss\n",
      "[0.00488] loss\n",
      "[0.00483283] loss\n",
      "[0.00478657] loss\n",
      "[0.00474118] loss\n",
      "[0.00469664] loss\n",
      "[0.00465294] loss\n",
      "[0.00461004] loss\n",
      "[0.00456792] loss\n",
      "[0.00452657] loss\n",
      "[0.00448596] loss\n",
      "[0.00444607] loss\n",
      "[0.00440688] loss\n",
      "[0.00436838] loss\n",
      "[0.00433054] loss\n",
      "[0.00429336] loss\n",
      "[0.00425681] loss\n",
      "[0.00422087] loss\n",
      "[0.00418554] loss\n",
      "[0.00415079] loss\n",
      "[0.00411662] loss\n",
      "[0.004083] loss\n",
      "[0.00404993] loss\n",
      "[0.00401739] loss\n",
      "[0.00398537] loss\n",
      "[0.00395385] loss\n",
      "[0.00392283] loss\n",
      "[0.0038923] loss\n",
      "[0.00386223] loss\n",
      "[0.00383263] loss\n",
      "[0.00380347] loss\n",
      "[0.00377476] loss\n",
      "[0.00374647] loss\n",
      "[0.00371861] loss\n",
      "[0.00369116] loss\n",
      "[0.00366411] loss\n",
      "[0.00363745] loss\n",
      "[0.00361118] loss\n",
      "[0.00358529] loss\n",
      "[0.00355976] loss\n",
      "[0.0035346] loss\n",
      "[0.00350979] loss\n",
      "[0.00348532] loss\n",
      "[0.00346119] loss\n",
      "[0.0034374] loss\n",
      "[0.00341393] loss\n",
      "[0.00339078] loss\n",
      "[0.00336794] loss\n"
     ]
    }
   ],
   "source": [
    "for _ in range(100):\n",
    "    y_, loss = linreg.forward(x, y)\n",
    "    linreg.backward(x, y_, y)\n",
    "    linreg.step(1)\n",
    "    print(loss, 'loss')"
   ]
  },
  {
   "cell_type": "code",
   "execution_count": null,
   "metadata": {},
   "outputs": [],
   "source": []
  },
  {
   "cell_type": "code",
   "execution_count": null,
   "metadata": {},
   "outputs": [],
   "source": []
  }
 ],
 "metadata": {
  "kernelspec": {
   "display_name": "Python 3",
   "language": "python",
   "name": "python3"
  },
  "language_info": {
   "codemirror_mode": {
    "name": "ipython",
    "version": 3
   },
   "file_extension": ".py",
   "mimetype": "text/x-python",
   "name": "python",
   "nbconvert_exporter": "python",
   "pygments_lexer": "ipython3",
   "version": "3.7.4"
  }
 },
 "nbformat": 4,
 "nbformat_minor": 2
}
