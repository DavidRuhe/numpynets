{
 "cells": [
  {
   "cell_type": "code",
   "execution_count": 1,
   "metadata": {},
   "outputs": [],
   "source": [
    "import numpy as np\n",
    "from sklearn.datasets import load_digits\n",
    "from sklearn.preprocessing import StandardScaler\n",
    "import torch"
   ]
  },
  {
   "cell_type": "code",
   "execution_count": 2,
   "metadata": {},
   "outputs": [],
   "source": [
    "X, y = load_digits(return_X_y=True)"
   ]
  },
  {
   "cell_type": "code",
   "execution_count": 3,
   "metadata": {},
   "outputs": [],
   "source": [
    "y = np.eye(10)[y]"
   ]
  },
  {
   "cell_type": "code",
   "execution_count": 4,
   "metadata": {},
   "outputs": [],
   "source": [
    "X = StandardScaler().fit_transform(X)\n"
   ]
  },
  {
   "cell_type": "code",
   "execution_count": 5,
   "metadata": {},
   "outputs": [],
   "source": [
    "w1 = torch.repeat_interleave(torch.linspace(0, 1, 10)[None, ...], 64, dim=0)\n",
    "b1 = torch.zeros(10)\n",
    "X_t = torch.from_numpy(X).float()\n",
    "y_t = torch.from_numpy(y).float()"
   ]
  },
  {
   "cell_type": "code",
   "execution_count": 6,
   "metadata": {},
   "outputs": [
    {
     "name": "stdout",
     "output_type": "stream",
     "text": [
      "tensor(4.3443, grad_fn=<DivBackward0>)\n",
      "tensor(1.4740)\n",
      "tensor(4.1305, grad_fn=<DivBackward0>)\n",
      "tensor(1.4262)\n",
      "tensor(3.9305, grad_fn=<DivBackward0>)\n",
      "tensor(1.3789)\n",
      "tensor(3.7436, grad_fn=<DivBackward0>)\n",
      "tensor(1.3322)\n",
      "tensor(3.5691, grad_fn=<DivBackward0>)\n",
      "tensor(1.2863)\n"
     ]
    }
   ],
   "source": [
    "for i in range(5):\n",
    "    \n",
    "    w1.requires_grad = True\n",
    "#     b1.requires_grad = True\n",
    "    z = X_t @ w1 + b1\n",
    "        \n",
    "    a = z - torch.max(z, axis=-1, keepdims=True)[0]\n",
    "    \n",
    "    y__t = torch.exp(a) / torch.sum(torch.exp(a), keepdims=True, axis=-1)\n",
    "    assert y__t.shape == y_t.shape\n",
    "    logy = torch.log(y__t)\n",
    "    ce = - y_t * logy\n",
    "    l = torch.sum(ce) / len(y_t)\n",
    "    l.backward()\n",
    "#     print(w2.grad)\n",
    "#     print(b2.grad)\n",
    "#     print(w1.grad)\n",
    "#     print(b1.grad)\n",
    "    if i % 1 == 0:\n",
    "        print(l)\n",
    "        \n",
    "    print(torch.norm(w1.grad))\n",
    "#     print(a1[0])\n",
    "    w1 = w1.data - 0.1 * w1.grad\n",
    "#     w2 = w2.data - 0.01 * w2.grad\n",
    "    \n",
    "#     b1 = b1.data - 0.01 * b1.grad\n",
    "#     b2 = b2.data - 0.01 * b2.grad\n",
    "\n",
    "\n",
    "    \n",
    "    "
   ]
  },
  {
   "cell_type": "code",
   "execution_count": 7,
   "metadata": {},
   "outputs": [],
   "source": [
    "class Linear:\n",
    "    def __init__(self, in_dim, out_dim):\n",
    "        self.w = np.zeros([in_dim, out_dim])\n",
    "        self.w = np.repeat(np.linspace(0, 1, 10)[np.newaxis, ...], 64, axis=0)\n",
    "\n",
    "#         self.w = np.random.randn(in_dim, out_dim)\n",
    "        self.b = np.zeros([1, out_dim])\n",
    "        self.dw = None\n",
    "        self.db = None\n",
    "        self.in_dim = self.w.shape[0]\n",
    "        self.out_dim = self.w.shape[1]\n",
    "\n",
    "        \n",
    "    def forward(self, x):\n",
    "        self.x = x\n",
    "        return np.matmul(x, self.w) + self.b\n",
    "    \n",
    "    def backward(self, d):\n",
    "        self.db = np.mean(d, axis=0)\n",
    "        assert self.db.shape == self.b.shape, (d.shape, self.db.shape, self.b.shape)\n",
    "        \n",
    "        J = np.zeros([self.x.shape[0], self.out_dim, np.prod(self.w.shape)])\n",
    "        j = 0\n",
    "        for i in range(self.out_dim):\n",
    "            J[:, i: i + 1, j: j + self.in_dim] = self.x[:, np.newaxis, :]\n",
    "            j += self.in_dim\n",
    "        \n",
    "        dw = d @ J\n",
    "        \n",
    "        dw = np.reshape(np.mean(dw, axis=0), self.w.shape, order='F')\n",
    "        \n",
    "        self.dw = dw\n",
    "        \n",
    "        d = d @ np.repeat(self.w.T[np.newaxis, ...], d.shape[0], axis=0)\n",
    "        \n",
    "        return d\n",
    "        \n",
    "    def step(self, lr):\n",
    "        self.w = self.w - lr * self.dw\n",
    "        self.b = self.b - lr * self.db"
   ]
  },
  {
   "cell_type": "code",
   "execution_count": 8,
   "metadata": {},
   "outputs": [],
   "source": [
    "class Softmax:\n",
    "    def __init__(self):\n",
    "        self.a = None\n",
    "        \n",
    "    def forward(self, x):\n",
    "        assert len(x.shape) == 2\n",
    "        x = x - np.max(x, axis=-1, keepdims=True)\n",
    "        self.a = np.exp(x) / np.sum(np.exp(x), keepdims=True, axis=-1)\n",
    "        return self.a\n",
    "    def backward(self, d):\n",
    "        \n",
    "        diag = np.stack([np.diag(self.a[i]) for i in range(len(self.a))])\n",
    "        op = np.stack([np.outer(self.a[i], self.a[i]) for i in range(len(self.a))])\n",
    "        J = diag - op\n",
    "        \n",
    "        return d[:, np.newaxis, ...] @ J"
   ]
  },
  {
   "cell_type": "code",
   "execution_count": 9,
   "metadata": {},
   "outputs": [],
   "source": [
    "class CrossEntropy:\n",
    "    def forward(self, y_, y):\n",
    "        \n",
    "        l = - np.sum(y * np.log(y_))\n",
    "        l /= len(y)\n",
    "        return y_, l\n",
    "    \n",
    "    def backward(self, y_, y):\n",
    "        assert y_.shape == y.shape\n",
    "        d =  - y / y_\n",
    "        return d"
   ]
  },
  {
   "cell_type": "code",
   "execution_count": 10,
   "metadata": {},
   "outputs": [],
   "source": [
    "class LogisticRegression:\n",
    "    def __init__(self):\n",
    "        self.linear = Linear(64, 10)\n",
    "        self.softmax = Softmax()\n",
    "        self.loss = CrossEntropy()\n",
    "        \n",
    "    def forward(self, x, y):\n",
    "        x = self.linear.forward(x)\n",
    "        x = self.softmax.forward(x)\n",
    "        loss = self.loss.forward(x, y)\n",
    "        return loss\n",
    "    \n",
    "    def backward(self, x, y_, y):\n",
    "        d = self.loss.backward(y_, y)\n",
    "        d = self.softmax.backward(d)\n",
    "        d = self.linear.backward(d)\n",
    "    \n",
    "    def step(self, lr):\n",
    "        self.linear.step(lr)\n",
    "        print(np.linalg.norm(self.linear.dw))\n",
    "\n",
    "        "
   ]
  },
  {
   "cell_type": "code",
   "execution_count": 11,
   "metadata": {},
   "outputs": [],
   "source": [
    "# X = np.array([[2, 1], [1, 2]])\n",
    "# y = np.array([[0, 1], [1, 0]])\n"
   ]
  },
  {
   "cell_type": "code",
   "execution_count": 12,
   "metadata": {},
   "outputs": [],
   "source": [
    "logreg = LogisticRegression()"
   ]
  },
  {
   "cell_type": "code",
   "execution_count": 13,
   "metadata": {},
   "outputs": [
    {
     "name": "stdout",
     "output_type": "stream",
     "text": [
      "1.4740451399377872\n",
      "4.344260809289213 loss\n",
      "1.4255308298447877\n",
      "4.1250148465374545 loss\n",
      "1.377265098908393\n",
      "3.919998069832835 loss\n",
      "1.3294816994324454\n",
      "3.7286710488975316 loss\n",
      "1.2823344010915054\n",
      "3.5504418945072724 loss\n"
     ]
    }
   ],
   "source": [
    "for i in range(5):\n",
    "    y_, loss = logreg.forward(X, y)\n",
    "    logreg.backward(X, y_, y)\n",
    "    logreg.step(0.1)\n",
    "    if i % 1 == 0:\n",
    "        print(loss, 'loss')\n",
    "#         print((np.argmax(y_, axis=-1) == np.argmax(y, axis=-1)).sum() / len(y_))"
   ]
  }
 ],
 "metadata": {
  "kernelspec": {
   "display_name": "Python 3",
   "language": "python",
   "name": "python3"
  },
  "language_info": {
   "codemirror_mode": {
    "name": "ipython",
    "version": 3
   },
   "file_extension": ".py",
   "mimetype": "text/x-python",
   "name": "python",
   "nbconvert_exporter": "python",
   "pygments_lexer": "ipython3",
   "version": "3.7.6"
  }
 },
 "nbformat": 4,
 "nbformat_minor": 4
}
